{
 "cells": [
  {
   "cell_type": "markdown",
   "id": "037291b5",
   "metadata": {
    "toc": true
   },
   "source": [
    "<h1>Table of Contents<span class=\"tocSkip\"></span></h1>\n",
    "<div class=\"toc\"><ul class=\"toc-item\"><li><span><a href=\"#imports\" data-toc-modified-id=\"imports-1\"><span class=\"toc-item-num\">1&nbsp;&nbsp;</span><strong>imports</strong></a></span></li><li><span><a href=\"#using-an-API\" data-toc-modified-id=\"using-an-API-2\"><span class=\"toc-item-num\">2&nbsp;&nbsp;</span><strong>using an API</strong></a></span></li><li><span><a href=\"#using-json\" data-toc-modified-id=\"using-json-3\"><span class=\"toc-item-num\">3&nbsp;&nbsp;</span><strong>using json</strong></a></span></li></ul></div>"
   ]
  },
  {
   "cell_type": "code",
   "execution_count": null,
   "id": "e36319ce",
   "metadata": {
    "ExecuteTime": {
     "end_time": "2023-08-20T12:44:27.605235Z",
     "start_time": "2023-08-20T12:44:27.492570Z"
    }
   },
   "outputs": [],
   "source": [
    "%load_ext nb_black"
   ]
  },
  {
   "cell_type": "markdown",
   "id": "c5481f62",
   "metadata": {},
   "source": [
    "# **imports**"
   ]
  },
  {
   "cell_type": "code",
   "execution_count": null,
   "id": "9e49e733",
   "metadata": {
    "ExecuteTime": {
     "end_time": "2023-08-20T12:44:28.173790Z",
     "start_time": "2023-08-20T12:44:27.607533Z"
    }
   },
   "outputs": [],
   "source": [
    "import pandas as pd\n",
    "import numpy as np\n",
    "import difflib\n",
    "\n",
    "import json, requests, itertools, os\n",
    "from urllib.parse import urljoin\n",
    "\n",
    "import plotly.express as px\n",
    "import plotly.graph_objects as go\n",
    "from ipywidgets import *"
   ]
  },
  {
   "cell_type": "markdown",
   "id": "452b188e",
   "metadata": {
    "ExecuteTime": {
     "end_time": "2023-08-13T11:03:47.284975Z",
     "start_time": "2023-08-13T11:03:47.269227Z"
    }
   },
   "source": [
    "# **using an API**"
   ]
  },
  {
   "cell_type": "code",
   "execution_count": null,
   "id": "ca5a246d",
   "metadata": {
    "ExecuteTime": {
     "end_time": "2023-08-20T12:44:28.203229Z",
     "start_time": "2023-08-20T12:44:28.175333Z"
    }
   },
   "outputs": [],
   "source": [
    "def get_bearer_token(api_client, api_key):\n",
    "    \"\"\"Gets an authorization token for use with the Verdigris API.  Expires in 10 hours.\"\"\"\n",
    "    url = \"https://auth.verdigris.co/oauth/token\"\n",
    "    header = {\"Content-Type\": \"application/json\"}\n",
    "    body = {\n",
    "        \"client_id\": client_id,\n",
    "        \"client_secret\": client_secret,\n",
    "        \"grant_type\": \"client_credentials\",\n",
    "        \"audience\": \"https://api.verdigris.co/\",\n",
    "    }\n",
    "    resp = requests.post(url, json.dumps(body), headers=header).json()\n",
    "    return resp[\"access_token\"]\n",
    "\n",
    "\n",
    "def prepare_request_header(secrets):\n",
    "    bearer_token_response = get_bearer_token(secrets[\"api_client\"], secrets[\"api_key\"])\n",
    "    header_auth = {}\n",
    "    if type(bearer_token_response) == str:\n",
    "        header_auth = {\"Authorization\": f\"Bearer {bearer_token_response}\"}\n",
    "    else:\n",
    "        print(f\"Authenication Request Failed:\\n{bearer_token_response}\")\n",
    "    return header_auth"
   ]
  },
  {
   "cell_type": "code",
   "execution_count": null,
   "id": "97067c30",
   "metadata": {
    "ExecuteTime": {
     "end_time": "2023-08-20T12:44:28.212289Z",
     "start_time": "2023-08-20T12:44:28.206276Z"
    }
   },
   "outputs": [],
   "source": [
    "# secrets = {\n",
    "#     \"client_id\": \"\",  # enter your Client ID\n",
    "#     \"client_secret\": \"\",  # enter your Client Secret\n",
    "# }\n",
    "#\n",
    "# base_url = \"https://api.verdigris.co/core/v1/\"\n",
    "# header = prepare_request_header(secrets)"
   ]
  },
  {
   "cell_type": "markdown",
   "id": "3e11a8b4",
   "metadata": {},
   "source": [
    "# **using json**"
   ]
  },
  {
   "cell_type": "code",
   "execution_count": null,
   "id": "12f046e7",
   "metadata": {
    "ExecuteTime": {
     "end_time": "2023-08-20T12:44:28.219467Z",
     "start_time": "2023-08-20T12:44:28.214975Z"
    }
   },
   "outputs": [],
   "source": [
    "# dist_sea =\n",
    "# music_schools ="
   ]
  },
  {
   "cell_type": "code",
   "execution_count": null,
   "id": "d170f3ba",
   "metadata": {
    "ExecuteTime": {
     "end_time": "2023-08-20T12:44:28.234473Z",
     "start_time": "2023-08-20T12:44:28.221115Z"
    }
   },
   "outputs": [],
   "source": [
    "def duration(l):\n",
    "    if len(l) == 2:\n",
    "        return int(float(l[0]) * 60 + float(l[1]))\n",
    "    else:\n",
    "        return np.nan\n",
    "\n",
    "\n",
    "def invert(x, r):\n",
    "    try:\n",
    "        return r - x\n",
    "    except:\n",
    "        return np.nan\n",
    "\n",
    "\n",
    "def convert_temp_to_float(x):\n",
    "    try:\n",
    "        return float(x)\n",
    "    except:\n",
    "        return np.nan"
   ]
  },
  {
   "cell_type": "code",
   "execution_count": null,
   "id": "0bf7623b",
   "metadata": {
    "ExecuteTime": {
     "end_time": "2023-08-20T12:44:28.409841Z",
     "start_time": "2023-08-20T12:44:28.236058Z"
    }
   },
   "outputs": [],
   "source": [
    "pop = pd.read_csv(\"data/worldcities.csv\")\n",
    "pop = (\n",
    "    pop[pop.country == \"France\"][[\"city\", \"population\"]]\n",
    "    .assign(population=lambda x: np.log(x[\"population\"]))\n",
    "    .sort_values(by=\"population\", ascending=False)\n",
    "    .reset_index(drop=True)\n",
    ")"
   ]
  },
  {
   "cell_type": "code",
   "execution_count": null,
   "id": "0bd89c5b",
   "metadata": {
    "ExecuteTime": {
     "end_time": "2023-08-20T12:44:29.148558Z",
     "start_time": "2023-08-20T12:44:28.412659Z"
    }
   },
   "outputs": [],
   "source": [
    "winter_weather = pd.read_csv(\"data/meteo-hiver.csv\", sep=\";\")\n",
    "summer_weather = pd.read_csv(\"data/meteo-ete.csv\", sep=\";\")\n",
    "winter_weather[\n",
    "    [\"Temperature mini\", \"Temperature maxi\", \"Temperature moy.\", \"Precipitations\"]\n",
    "] = winter_weather[\n",
    "    [\"Temperature mini\", \"Temperature maxi\", \"Temperature moy.\", \"Precipitations\"]\n",
    "].map(\n",
    "    lambda x: convert_temp_to_float(x)\n",
    ")\n",
    "summer_weather[\n",
    "    [\"Temperature mini\", \"Temperature maxi\", \"Temperature moy.\", \"Precipitations\"]\n",
    "] = summer_weather[\n",
    "    [\"Temperature mini\", \"Temperature maxi\", \"Temperature moy.\", \"Precipitations\"]\n",
    "].map(\n",
    "    lambda x: convert_temp_to_float(x)\n",
    ")\n",
    "\n",
    "summer_temp = summer_weather.assign(\n",
    "    city=lambda x: x[\"Station\"].apply(lambda y: y[5:]),\n",
    "    summer_temp_min=lambda x: x[\"Temperature mini\"].apply(\n",
    "        lambda y: invert(y, summer_weather[\"Temperature mini\"].max())\n",
    "    ),\n",
    "    summer_temp_max=lambda x: x[\"Temperature maxi\"].apply(\n",
    "        lambda y: invert(y, summer_weather[\"Temperature maxi\"].max())\n",
    "    ),\n",
    "    summer_temp_mean=lambda x: x[\"Temperature moy.\"].apply(\n",
    "        lambda y: invert(y, summer_weather[\"Temperature moy.\"].max())\n",
    "    ),\n",
    "    summer_rain=lambda x: x[\"Precipitations\"].apply(\n",
    "        lambda y: invert(y, summer_weather[\"Precipitations\"].max())\n",
    "    ),\n",
    "    summer_sun=lambda x: x[\"Ensoleillement\"].apply(lambda y: duration(y.split(\"h\"))),\n",
    ")[\n",
    "    [\n",
    "        \"city\",\n",
    "        \"summer_temp_min\",\n",
    "        \"summer_temp_max\",\n",
    "        \"summer_temp_mean\",\n",
    "        \"summer_rain\",\n",
    "        \"summer_sun\",\n",
    "    ]\n",
    "]\n",
    "\n",
    "winter_temp = winter_weather.assign(\n",
    "    city=lambda x: x[\"Station\"].apply(lambda y: y[5:]),\n",
    "    winter_temp_min=lambda x: x[\"Temperature mini\"],\n",
    "    winter_temp_max=lambda x: x[\"Temperature maxi\"],\n",
    "    winter_temp_mean=lambda x: x[\"Temperature moy.\"],\n",
    "    winter_rain=lambda x: x[\"Precipitations\"].apply(\n",
    "        lambda y: invert(y, winter_weather[\"Precipitations\"].max())\n",
    "    ),\n",
    "    winter_sun=lambda x: x[\"Ensoleillement\"].apply(lambda y: duration(y.split(\"h\"))),\n",
    ")[\n",
    "    [\n",
    "        \"city\",\n",
    "        \"winter_temp_min\",\n",
    "        \"winter_temp_max\",\n",
    "        \"winter_temp_mean\",\n",
    "        \"winter_rain\",\n",
    "        \"winter_sun\",\n",
    "    ]\n",
    "]\n",
    "\n",
    "\n",
    "d_city = {\n",
    "    \"Marseille Marignane (Provence)\": \"Marseille\",\n",
    "    \"Lyon Bron\": \"Lyon\",\n",
    "    \"Nantes Château-Bougon Atlantique\": \"Nantes\",\n",
    "    \"Lille Lesquin\": \"Lille\",\n",
    "    \"Bordeaux Mérignac\": \"Bordeaux\",\n",
    "    \"Montpellier Frejorgues Mediterranee\": \"Montpellier\",\n",
    "    \"Annecy Meythet\": \"Annecy\",\n",
    "    \"Rennes Saint-Jacques\": \"Rennes\",\n",
    "}\n",
    "\n",
    "weather = pd.merge(winter_temp, summer_temp, how=\"outer\", on=\"city\")\n",
    "\n",
    "weather.loc[:, \"city\"] = (\n",
    "    weather[\"city\"]\n",
    "    .apply(lambda y: d_city.get(y, y))\n",
    "    .apply(lambda x: difflib.get_close_matches(x, pop[\"city\"]))\n",
    "    .apply(lambda x: x[0] if len(x) > 0 else np.nan)\n",
    ")\n",
    "weather = weather.dropna(subset=[\"city\"])"
   ]
  },
  {
   "cell_type": "code",
   "execution_count": null,
   "id": "aa7f9a73",
   "metadata": {
    "ExecuteTime": {
     "end_time": "2023-08-20T12:44:29.173310Z",
     "start_time": "2023-08-20T12:44:29.149987Z"
    }
   },
   "outputs": [],
   "source": [
    "df_spider = pd.merge(weather, pop, how=\"inner\", on=\"city\")\n",
    "df_spider = df_spider.set_index(\"city\").applymap(\n",
    "    lambda x: float(x) if x not in [\"-\", \"0.0*\", \"0.2*\"] else np.nan\n",
    ")\n",
    "df_spider = (df_spider - df_spider.min()) / (df_spider.max() - df_spider.min())\n",
    "\n",
    "df_spider = df_spider.reset_index()"
   ]
  },
  {
   "cell_type": "code",
   "execution_count": null,
   "id": "c52e1335",
   "metadata": {
    "ExecuteTime": {
     "end_time": "2023-08-20T12:44:29.725703Z",
     "start_time": "2023-08-20T12:44:29.175980Z"
    }
   },
   "outputs": [],
   "source": [
    "@interact(\n",
    "    df=fixed(df_spider),\n",
    "    city_1=sorted(df_spider[df_spider.population > 0.2].city),\n",
    "    city_2=sorted(df_spider[df_spider.population > 0.2].city),\n",
    ")\n",
    "def spider_graph(df, city_1=\"Marseille\", city_2=\"Paris\"):\n",
    "    df_plot_1 = df[df.city == city_1].T.drop(\"city\").reset_index()\n",
    "    df_plot_1.columns = [\"theta\", \"r\"]\n",
    "    # display(df_plot_1)\n",
    "\n",
    "    fig = px.line_polar(df_plot_1, r=\"r\", theta=\"theta\", line_close=True)\n",
    "    fig.update_traces(fill=\"toself\", name=city_1, showlegend=True)\n",
    "\n",
    "    df_plot_2 = pd.concat(\n",
    "        [\n",
    "            pd.DataFrame(df[df.city == city_2].T.drop(\"city\").reset_index().iloc[-1]).T,\n",
    "            df[df.city == city_2].T.drop(\"city\").reset_index(),\n",
    "        ]\n",
    "    ).reset_index(drop=True)\n",
    "    df_plot_2.columns = [\"theta\", \"r\"]\n",
    "    # display(df_plot_2)\n",
    "\n",
    "    fig.add_trace(\n",
    "        go.Scatterpolar(\n",
    "            theta=df_plot_2.theta,\n",
    "            r=df_plot_2.r,\n",
    "            opacity=0.7,\n",
    "            fill=\"toself\",\n",
    "            marker={\"opacity\": 0},\n",
    "            name=city_2,\n",
    "        ),\n",
    "        row=1,\n",
    "        col=1,\n",
    "    )\n",
    "\n",
    "    fig.show()"
   ]
  },
  {
   "cell_type": "code",
   "execution_count": null,
   "id": "df164302",
   "metadata": {
    "ExecuteTime": {
     "end_time": "2023-08-20T12:48:56.257549Z",
     "start_time": "2023-08-20T12:48:56.223280Z"
    }
   },
   "outputs": [],
   "source": [
    "df_spider[df_spider.winter_sun > 0.5]"
   ]
  },
  {
   "cell_type": "code",
   "execution_count": null,
   "id": "f5767522",
   "metadata": {},
   "outputs": [],
   "source": []
  }
 ],
 "metadata": {
  "kernelspec": {
   "display_name": "Python 3 (ipykernel)",
   "language": "python",
   "name": "python3"
  },
  "language_info": {
   "codemirror_mode": {
    "name": "ipython",
    "version": 3
   },
   "file_extension": ".py",
   "mimetype": "text/x-python",
   "name": "python",
   "nbconvert_exporter": "python",
   "pygments_lexer": "ipython3",
   "version": "3.10.9"
  },
  "toc": {
   "base_numbering": 1,
   "nav_menu": {},
   "number_sections": true,
   "sideBar": true,
   "skip_h1_title": false,
   "title_cell": "Table of Contents",
   "title_sidebar": "Contents",
   "toc_cell": true,
   "toc_position": {},
   "toc_section_display": true,
   "toc_window_display": true
  },
  "varInspector": {
   "cols": {
    "lenName": 16,
    "lenType": 16,
    "lenVar": 40
   },
   "kernels_config": {
    "python": {
     "delete_cmd_postfix": "",
     "delete_cmd_prefix": "del ",
     "library": "var_list.py",
     "varRefreshCmd": "print(var_dic_list())"
    },
    "r": {
     "delete_cmd_postfix": ") ",
     "delete_cmd_prefix": "rm(",
     "library": "var_list.r",
     "varRefreshCmd": "cat(var_dic_list()) "
    }
   },
   "types_to_exclude": [
    "module",
    "function",
    "builtin_function_or_method",
    "instance",
    "_Feature"
   ],
   "window_display": false
  }
 },
 "nbformat": 4,
 "nbformat_minor": 5
}
